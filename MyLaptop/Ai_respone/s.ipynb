{
 "cells": [
  {
   "cell_type": "code",
   "execution_count": 28,
   "metadata": {},
   "outputs": [],
   "source": [
    "import pandas\n",
    "data = pandas.read_csv('data14.csv')"
   ]
  },
  {
   "cell_type": "code",
   "execution_count": 29,
   "metadata": {},
   "outputs": [
    {
     "data": {
      "text/plain": [
       "0    Ai ơi bưng bát cơm đầy Dẻo thơm một hạt đắng c...\n",
       "1    Ai đưa con sáo sang sông Để cho con sáo sổ lồn...\n",
       "2    Anh về học lấy chữ hương Chín trăng em đợi mườ...\n",
       "3    Anh đi anh nhớ quê nhà Nhớ canh rau muống nhớ ...\n",
       "4    Nhớ ai dãi nắng dầm sương Nhớ ai tát nước bên ...\n",
       "5    Anh em nào phải người xa Cùng chung bác mẹ một...\n",
       "6    Yêu nhau như thể tay chân Anh em hòa thuận hai...\n",
       "7    Áo anh sứt chỉ đường tà Vợ anh chưa có mẹ già ...\n",
       "8    Ai về Hà Tĩnh thì về Mặc lụa chợ Hạ uống chè h...\n",
       "9    Ai về Tuy Phước ăn nem Ghé qua Hưng Thạnh mà x...\n",
       "Name: question, dtype: object"
      ]
     },
     "execution_count": 29,
     "metadata": {},
     "output_type": "execute_result"
    }
   ],
   "source": [
    "data['question'].head(10)"
   ]
  },
  {
   "cell_type": "code",
   "execution_count": 31,
   "metadata": {},
   "outputs": [
    {
     "data": {
      "text/html": [
       "<div>\n",
       "<style scoped>\n",
       "    .dataframe tbody tr th:only-of-type {\n",
       "        vertical-align: middle;\n",
       "    }\n",
       "\n",
       "    .dataframe tbody tr th {\n",
       "        vertical-align: top;\n",
       "    }\n",
       "\n",
       "    .dataframe thead th {\n",
       "        text-align: right;\n",
       "    }\n",
       "</style>\n",
       "<table border=\"1\" class=\"dataframe\">\n",
       "  <thead>\n",
       "    <tr style=\"text-align: right;\">\n",
       "      <th></th>\n",
       "      <th>question</th>\n",
       "      <th>answer</th>\n",
       "    </tr>\n",
       "  </thead>\n",
       "  <tbody>\n",
       "    <tr>\n",
       "      <th>0</th>\n",
       "      <td>Ai ơi bưng bát cơm đầy Dẻo thơm một hạt đắng c...</td>\n",
       "      <td>Ai ơi bưng bát cơm đầy Dẻo thơm một hạt đắng c...</td>\n",
       "    </tr>\n",
       "    <tr>\n",
       "      <th>1</th>\n",
       "      <td>Ai đưa con sáo sang sông Để cho con sáo sổ lồn...</td>\n",
       "      <td>Ai đưa con sáo sang sông Để cho con sáo sổ lồn...</td>\n",
       "    </tr>\n",
       "    <tr>\n",
       "      <th>2</th>\n",
       "      <td>Anh về học lấy chữ hương Chín trăng em đợi mườ...</td>\n",
       "      <td>Anh về học lấy chữ hương Chín trăng em đợi mườ...</td>\n",
       "    </tr>\n",
       "    <tr>\n",
       "      <th>3</th>\n",
       "      <td>Anh đi anh nhớ quê nhà Nhớ canh rau muống nhớ ...</td>\n",
       "      <td>Anh đi anh nhớ quê nhà Nhớ canh rau muống nhớ ...</td>\n",
       "    </tr>\n",
       "    <tr>\n",
       "      <th>4</th>\n",
       "      <td>Nhớ ai dãi nắng dầm sương Nhớ ai tát nước bên ...</td>\n",
       "      <td>Nhớ ai dãi nắng dầm sương Nhớ ai tát nước bên ...</td>\n",
       "    </tr>\n",
       "    <tr>\n",
       "      <th>...</th>\n",
       "      <td>...</td>\n",
       "      <td>...</td>\n",
       "    </tr>\n",
       "    <tr>\n",
       "      <th>372</th>\n",
       "      <td>Đường mía lau càng lâu càng ngát Cơm nếp mật n...</td>\n",
       "      <td>Đường mía lau càng lâu càng ngát Cơm nếp mật n...</td>\n",
       "    </tr>\n",
       "    <tr>\n",
       "      <th>373</th>\n",
       "      <td>Ba hương lây lất tháng ngày Gió đưa mẹ rụng co...</td>\n",
       "      <td>Ba hương lây lất tháng ngày Gió đưa mẹ rụng co...</td>\n",
       "    </tr>\n",
       "    <tr>\n",
       "      <th>374</th>\n",
       "      <td>Mẹ già như áng mây trôi Như sương trên cỏ như ...</td>\n",
       "      <td>Mẹ già như áng mây trôi Như sương trên cỏ như ...</td>\n",
       "    </tr>\n",
       "    <tr>\n",
       "      <th>375</th>\n",
       "      <td>Lời hát ru vi vu trong gió Sương trên cỏ khó v...</td>\n",
       "      <td>Lời hát ru vi vu trong gió Sương trên cỏ khó v...</td>\n",
       "    </tr>\n",
       "    <tr>\n",
       "      <th>376</th>\n",
       "      <td>Mây trôi lãng đãng trên ngàn Gió đưa tan hợp h...</td>\n",
       "      <td>Mây trôi lãng đãng trên ngàn Gió đưa tan hợp h...</td>\n",
       "    </tr>\n",
       "  </tbody>\n",
       "</table>\n",
       "<p>377 rows × 2 columns</p>\n",
       "</div>"
      ],
      "text/plain": [
       "                                              question  \\\n",
       "0    Ai ơi bưng bát cơm đầy Dẻo thơm một hạt đắng c...   \n",
       "1    Ai đưa con sáo sang sông Để cho con sáo sổ lồn...   \n",
       "2    Anh về học lấy chữ hương Chín trăng em đợi mườ...   \n",
       "3    Anh đi anh nhớ quê nhà Nhớ canh rau muống nhớ ...   \n",
       "4    Nhớ ai dãi nắng dầm sương Nhớ ai tát nước bên ...   \n",
       "..                                                 ...   \n",
       "372  Đường mía lau càng lâu càng ngát Cơm nếp mật n...   \n",
       "373  Ba hương lây lất tháng ngày Gió đưa mẹ rụng co...   \n",
       "374  Mẹ già như áng mây trôi Như sương trên cỏ như ...   \n",
       "375  Lời hát ru vi vu trong gió Sương trên cỏ khó v...   \n",
       "376  Mây trôi lãng đãng trên ngàn Gió đưa tan hợp h...   \n",
       "\n",
       "                                                answer  \n",
       "0    Ai ơi bưng bát cơm đầy Dẻo thơm một hạt đắng c...  \n",
       "1    Ai đưa con sáo sang sông Để cho con sáo sổ lồn...  \n",
       "2    Anh về học lấy chữ hương Chín trăng em đợi mườ...  \n",
       "3    Anh đi anh nhớ quê nhà Nhớ canh rau muống nhớ ...  \n",
       "4    Nhớ ai dãi nắng dầm sương Nhớ ai tát nước bên ...  \n",
       "..                                                 ...  \n",
       "372  Đường mía lau càng lâu càng ngát Cơm nếp mật n...  \n",
       "373  Ba hương lây lất tháng ngày Gió đưa mẹ rụng co...  \n",
       "374  Mẹ già như áng mây trôi Như sương trên cỏ như ...  \n",
       "375  Lời hát ru vi vu trong gió Sương trên cỏ khó v...  \n",
       "376  Mây trôi lãng đãng trên ngàn Gió đưa tan hợp h...  \n",
       "\n",
       "[377 rows x 2 columns]"
      ]
     },
     "execution_count": 31,
     "metadata": {},
     "output_type": "execute_result"
    }
   ],
   "source": [
    "data['answer'] = data['question']\n",
    "data"
   ]
  },
  {
   "cell_type": "code",
   "execution_count": 14,
   "metadata": {},
   "outputs": [],
   "source": [
    "data['question'] = ['Điều {} luật hàng hải'.format(i) for i in range(1,342)]\n"
   ]
  },
  {
   "cell_type": "code",
   "execution_count": 15,
   "metadata": {},
   "outputs": [
    {
     "data": {
      "text/plain": [
       "0      Ca dao 1\n",
       "1      Ca dao 2\n",
       "2      Ca dao 3\n",
       "3      Ca dao 4\n",
       "4      Ca dao 5\n",
       "5      Ca dao 6\n",
       "6      Ca dao 7\n",
       "7      Ca dao 8\n",
       "8      Ca dao 9\n",
       "9     Ca dao 10\n",
       "10    Ca dao 11\n",
       "11    Ca dao 12\n",
       "12    Ca dao 13\n",
       "13    Ca dao 14\n",
       "14    Ca dao 15\n",
       "15    Ca dao 16\n",
       "16    Ca dao 17\n",
       "17    Ca dao 18\n",
       "18    Ca dao 19\n",
       "19    Ca dao 20\n",
       "20    Ca dao 21\n",
       "21    Ca dao 22\n",
       "22    Ca dao 23\n",
       "23    Ca dao 24\n",
       "24    Ca dao 25\n",
       "25    Ca dao 26\n",
       "26    Ca dao 27\n",
       "27    Ca dao 28\n",
       "28    Ca dao 29\n",
       "29    Ca dao 30\n",
       "30    Ca dao 31\n",
       "31    Ca dao 32\n",
       "32    Ca dao 33\n",
       "33    Ca dao 34\n",
       "34    Ca dao 35\n",
       "35    Ca dao 36\n",
       "36    Ca dao 37\n",
       "37    Ca dao 38\n",
       "38    Ca dao 39\n",
       "39    Ca dao 40\n",
       "40    Ca dao 41\n",
       "41    Ca dao 42\n",
       "42    Ca dao 43\n",
       "43    Ca dao 44\n",
       "44    Ca dao 45\n",
       "45    Ca dao 46\n",
       "46    Ca dao 47\n",
       "47    Ca dao 48\n",
       "48    Ca dao 49\n",
       "49    Ca dao 50\n",
       "50    Ca dao 51\n",
       "51    Ca dao 52\n",
       "52    Ca dao 53\n",
       "53    Ca dao 54\n",
       "54    Ca dao 55\n",
       "55    Ca dao 56\n",
       "56    Ca dao 57\n",
       "57    Ca dao 58\n",
       "58    Ca dao 59\n",
       "59    Ca dao 60\n",
       "Name: question, dtype: object"
      ]
     },
     "execution_count": 15,
     "metadata": {},
     "output_type": "execute_result"
    }
   ],
   "source": [
    "data['question'] "
   ]
  },
  {
   "cell_type": "code",
   "execution_count": 32,
   "metadata": {},
   "outputs": [],
   "source": [
    "data.to_csv('data14.csv', index=False)\n"
   ]
  }
 ],
 "metadata": {
  "kernelspec": {
   "display_name": "Python 3",
   "language": "python",
   "name": "python3"
  },
  "language_info": {
   "codemirror_mode": {
    "name": "ipython",
    "version": 3
   },
   "file_extension": ".py",
   "mimetype": "text/x-python",
   "name": "python",
   "nbconvert_exporter": "python",
   "pygments_lexer": "ipython3",
   "version": "3.11.7"
  }
 },
 "nbformat": 4,
 "nbformat_minor": 2
}
